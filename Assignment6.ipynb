{
 "cells": [
  {
   "cell_type": "code",
   "execution_count": 2,
   "metadata": {},
   "outputs": [
    {
     "name": "stdout",
     "output_type": "stream",
     "text": [
      "Qdoba\n",
      "Mexican\n",
      "\n",
      "Qdoba serves wonderful Mexican.\n",
      "\n",
      "Qdoba is open. Come on in!\n"
     ]
    }
   ],
   "source": [
    "class Restaurant():\n",
    "\n",
    "    def __init__(self, name, cuisine_type):\n",
    "      \n",
    "        self.name = name.title()\n",
    "        self.cuisine_type = cuisine_type\n",
    "\n",
    "    def describe_restaurant(self):\n",
    "\n",
    "        msg = self.name + \" serves wonderful \" + self.cuisine_type + \".\"\n",
    "        print(\"\\n\" + msg)\n",
    "\n",
    "    def open_restaurant(self):\n",
    "        \n",
    "        msg = self.name + \" is open. Come on in!\"\n",
    "        print(\"\\n\" + msg)\n",
    "\n",
    "restaurant = Restaurant('Qdoba', 'Mexican')\n",
    "print(restaurant.name)\n",
    "print(restaurant.cuisine_type)\n",
    "\n",
    "restaurant.describe_restaurant()\n",
    "restaurant.open_restaurant()"
   ]
  },
  {
   "cell_type": "code",
   "execution_count": 3,
   "metadata": {},
   "outputs": [
    {
     "name": "stdout",
     "output_type": "stream",
     "text": [
      "\n",
      "Eric Matthes\n",
      "  Username: e_matthes\n",
      "  Email: e_matthes@example.com\n",
      "  Location: Alaska\n",
      "\n",
      "Welcome back, e_matthes!\n",
      "\n",
      "Willie Burger\n",
      "  Username: willieburger\n",
      "  Email: wb@example.com\n",
      "  Location: Alaska\n",
      "\n",
      "Welcome back, willieburger!\n"
     ]
    }
   ],
   "source": [
    "class User():\n",
    "    \"\"\"Represent a simple user profile.\"\"\"\n",
    "\n",
    "    def __init__(self, first_name, last_name, username, email, location):\n",
    "        \"\"\"Initialize the user.\"\"\"\n",
    "        self.first_name = first_name.title()\n",
    "        self.last_name = last_name.title()\n",
    "        self.username = username\n",
    "        self.email = email\n",
    "        self.location = location.title()\n",
    "\n",
    "    def describe_user(self):\n",
    "        \"\"\"Display a summary of the user's information.\"\"\"\n",
    "        print(\"\\n\" + self.first_name + \" \" + self.last_name)\n",
    "        print(\"  Username: \" + self.username)\n",
    "        print(\"  Email: \" + self.email)\n",
    "        print(\"  Location: \" + self.location)\n",
    "\n",
    "    def greet_user(self):\n",
    "        \"\"\"Display a personalized greeting to the user.\"\"\"\n",
    "        print(\"\\nWelcome back, \" + self.username + \"!\")\n",
    "\n",
    "eric = User('eric', 'matthes', 'e_matthes', 'e_matthes@example.com', 'alaska')\n",
    "eric.describe_user()\n",
    "eric.greet_user()\n",
    "\n",
    "willie = User('willie', 'burger', 'willieburger', 'wb@example.com', 'alaska')\n",
    "willie.describe_user()\n",
    "willie.greet_user()"
   ]
  },
  {
   "cell_type": "code",
   "execution_count": 9,
   "metadata": {},
   "outputs": [
    {
     "ename": "ModuleNotFoundError",
     "evalue": "No module named 'restaurant'",
     "output_type": "error",
     "traceback": [
      "\u001b[1;31m---------------------------------------------------------------------------\u001b[0m",
      "\u001b[1;31mModuleNotFoundError\u001b[0m                       Traceback (most recent call last)",
      "\u001b[1;32m<ipython-input-9-b438d3aa7bcb>\u001b[0m in \u001b[0;36m<module>\u001b[1;34m\u001b[0m\n\u001b[0;32m     27\u001b[0m         \u001b[1;34m\"\"\"Allow user to increment the number of customers served.\"\"\"\u001b[0m\u001b[1;33m\u001b[0m\u001b[0m\n\u001b[0;32m     28\u001b[0m         \u001b[0mself\u001b[0m\u001b[1;33m.\u001b[0m\u001b[0mnumber_served\u001b[0m \u001b[1;33m+=\u001b[0m \u001b[0madditional_served\u001b[0m\u001b[1;33m\u001b[0m\u001b[0m\n\u001b[1;32m---> 29\u001b[1;33m \u001b[1;32mfrom\u001b[0m \u001b[0mrestaurant\u001b[0m \u001b[1;32mimport\u001b[0m \u001b[0mRestaurant\u001b[0m\u001b[1;33m\u001b[0m\u001b[0m\n\u001b[0m\u001b[0;32m     30\u001b[0m \u001b[1;33m\u001b[0m\u001b[0m\n\u001b[0;32m     31\u001b[0m \u001b[0mchannel_club\u001b[0m \u001b[1;33m=\u001b[0m \u001b[0mRestaurant\u001b[0m\u001b[1;33m(\u001b[0m\u001b[1;34m'the channel club'\u001b[0m\u001b[1;33m,\u001b[0m \u001b[1;34m'steak and seafood'\u001b[0m\u001b[1;33m)\u001b[0m\u001b[1;33m\u001b[0m\u001b[0m\n",
      "\u001b[1;31mModuleNotFoundError\u001b[0m: No module named 'restaurant'"
     ]
    }
   ],
   "source": [
    "\"\"\"A class representing a restaurant.\"\"\"\n",
    "\n",
    "class Restaurant():\n",
    "    \"\"\"A class representing a restaurant.\"\"\"\n",
    "\n",
    "    def __init__(self, name, cuisine_type):\n",
    "        \"\"\"Initialize the restaurant.\"\"\"\n",
    "        self.name = name.title()\n",
    "        self.cuisine_type = cuisine_type\n",
    "        self.number_served = 0\n",
    "\n",
    "    def describe_restaurant(self):\n",
    "        \"\"\"Display a summary of the restaurant.\"\"\"\n",
    "        msg = self.name + \" serves wonderful \" + self.cuisine_type + \".\"\n",
    "        print(\"\\n\" + msg)\n",
    "\n",
    "    def open_restaurant(self):\n",
    "        \"\"\"Display a message that the restaurant is open.\"\"\"\n",
    "        msg = self.name + \" is open. Come on in!\"\n",
    "        print(\"\\n\" + msg)\n",
    "\n",
    "    def set_number_served(self, number_served):\n",
    "        \"\"\"Allow user to set the number of customers that have been served.\"\"\"\n",
    "        self.number_served = number_served\n",
    "\n",
    "    def increment_number_served(self, additional_served):\n",
    "        \"\"\"Allow user to increment the number of customers served.\"\"\"\n",
    "        self.number_served += additional_served\n",
    "from restaurant import Restaurant\n",
    "\n",
    "channel_club = Restaurant('the channel club', 'steak and seafood')\n",
    "channel_club.describe_restaurant()\n",
    "channel_club.open_restaurant()"
   ]
  },
  {
   "cell_type": "code",
   "execution_count": 10,
   "metadata": {},
   "outputs": [
    {
     "name": "stdout",
     "output_type": "stream",
     "text": [
      "\n",
      "The Big One serves wonderful ice_cream.\n",
      "\n",
      "We have the following flavors available:\n",
      "- Vanilla\n",
      "- Chocolate\n",
      "- Black Cherry\n"
     ]
    }
   ],
   "source": [
    "class Restaurant():\n",
    "    \"\"\"A class representing a restaurant.\"\"\"\n",
    "\n",
    "    def __init__(self, name, cuisine_type):\n",
    "        \"\"\"Initialize the restaurant.\"\"\"\n",
    "        self.name = name.title()\n",
    "        self.cuisine_type = cuisine_type\n",
    "        self.number_served = 0\n",
    "\n",
    "    def describe_restaurant(self):\n",
    "        \"\"\"Display a summary of the restaurant.\"\"\"\n",
    "        msg = self.name + \" serves wonderful \" + self.cuisine_type + \".\"\n",
    "        print(\"\\n\" + msg)\n",
    "\n",
    "    def open_restaurant(self):\n",
    "        \"\"\"Display a message that the restaurant is open.\"\"\"\n",
    "        msg = self.name + \" is open. Come on in!\"\n",
    "        print(\"\\n\" + msg)\n",
    "\n",
    "    def set_number_served(self, number_served):\n",
    "        \"\"\"Allow user to set the number of customers that have been served.\"\"\"\n",
    "        self.number_served = number_served\n",
    "\n",
    "    def increment_number_served(self, additional_served):\n",
    "        \"\"\"Allow user to increment the number of customers served.\"\"\"\n",
    "        self.number_served += additional_served\n",
    "\n",
    "\n",
    "class IceCreamStand(Restaurant):\n",
    "    \"\"\"Represent an ice cream stand.\"\"\"\n",
    "\n",
    "    def __init__(self, name, cuisine_type='ice_cream'):\n",
    "        \"\"\"Initialize an ice cream stand.\"\"\"\n",
    "        super().__init__(name, cuisine_type)\n",
    "        self.flavors = []\n",
    "\n",
    "    def show_flavors(self):\n",
    "        \"\"\"Display the flavors available.\"\"\"\n",
    "        print(\"\\nWe have the following flavors available:\")\n",
    "        for flavor in self.flavors:\n",
    "            print(\"- \" + flavor.title())\n",
    "\n",
    "\n",
    "big_one = IceCreamStand('The Big One')\n",
    "big_one.flavors = ['vanilla', 'chocolate', 'black cherry']\n",
    "\n",
    "big_one.describe_restaurant()\n",
    "big_one.show_flavors()"
   ]
  },
  {
   "cell_type": "code",
   "execution_count": 11,
   "metadata": {},
   "outputs": [
    {
     "name": "stdout",
     "output_type": "stream",
     "text": [
      "--- Reading in the entire file:\n"
     ]
    },
    {
     "ename": "FileNotFoundError",
     "evalue": "[Errno 2] No such file or directory: 'learning_python.txt'",
     "output_type": "error",
     "traceback": [
      "\u001b[1;31m---------------------------------------------------------------------------\u001b[0m",
      "\u001b[1;31mFileNotFoundError\u001b[0m                         Traceback (most recent call last)",
      "\u001b[1;32m<ipython-input-11-3cdfc0387c87>\u001b[0m in \u001b[0;36m<module>\u001b[1;34m\u001b[0m\n\u001b[0;32m      2\u001b[0m \u001b[1;33m\u001b[0m\u001b[0m\n\u001b[0;32m      3\u001b[0m \u001b[0mprint\u001b[0m\u001b[1;33m(\u001b[0m\u001b[1;34m\"--- Reading in the entire file:\"\u001b[0m\u001b[1;33m)\u001b[0m\u001b[1;33m\u001b[0m\u001b[0m\n\u001b[1;32m----> 4\u001b[1;33m \u001b[1;32mwith\u001b[0m \u001b[0mopen\u001b[0m\u001b[1;33m(\u001b[0m\u001b[0mfilename\u001b[0m\u001b[1;33m)\u001b[0m \u001b[1;32mas\u001b[0m \u001b[0mf\u001b[0m\u001b[1;33m:\u001b[0m\u001b[1;33m\u001b[0m\u001b[0m\n\u001b[0m\u001b[0;32m      5\u001b[0m     \u001b[0mcontents\u001b[0m \u001b[1;33m=\u001b[0m \u001b[0mf\u001b[0m\u001b[1;33m.\u001b[0m\u001b[0mread\u001b[0m\u001b[1;33m(\u001b[0m\u001b[1;33m)\u001b[0m\u001b[1;33m\u001b[0m\u001b[0m\n\u001b[0;32m      6\u001b[0m \u001b[0mprint\u001b[0m\u001b[1;33m(\u001b[0m\u001b[0mcontents\u001b[0m\u001b[1;33m)\u001b[0m\u001b[1;33m\u001b[0m\u001b[0m\n",
      "\u001b[1;31mFileNotFoundError\u001b[0m: [Errno 2] No such file or directory: 'learning_python.txt'"
     ]
    }
   ],
   "source": [
    "filename = 'learning_python.txt'\n",
    "\n",
    "print(\"--- Reading in the entire file:\")\n",
    "with open(filename) as f:\n",
    "    contents = f.read()\n",
    "print(contents)\n",
    "\n",
    "print(\"\\n--- Looping over the lines:\")\n",
    "with open(filename) as f:\n",
    "    for line in f:\n",
    "        print(line.rstrip())\n",
    "\n",
    "print(\"\\n--- Storing the lines in a list:\")\n",
    "with open(filename) as f:\n",
    "    lines = f.readlines()\n",
    "\n",
    "for line in lines:\n",
    "    print(line.rstrip())"
   ]
  },
  {
   "cell_type": "code",
   "execution_count": 8,
   "metadata": {},
   "outputs": [
    {
     "ename": "ModuleNotFoundError",
     "evalue": "No module named 'restaurant'",
     "output_type": "error",
     "traceback": [
      "\u001b[1;31m---------------------------------------------------------------------------\u001b[0m",
      "\u001b[1;31mModuleNotFoundError\u001b[0m                       Traceback (most recent call last)",
      "\u001b[1;32m<ipython-input-8-213df2ae0c2a>\u001b[0m in \u001b[0;36m<module>\u001b[1;34m\u001b[0m\n\u001b[1;32m----> 1\u001b[1;33m \u001b[1;32mfrom\u001b[0m \u001b[0mrestaurant\u001b[0m \u001b[1;32mimport\u001b[0m \u001b[0mRestaurant\u001b[0m\u001b[1;33m\u001b[0m\u001b[0m\n\u001b[0m\u001b[0;32m      2\u001b[0m \u001b[1;33m\u001b[0m\u001b[0m\n\u001b[0;32m      3\u001b[0m \u001b[0mchannel_club\u001b[0m \u001b[1;33m=\u001b[0m \u001b[0mRestaurant\u001b[0m\u001b[1;33m(\u001b[0m\u001b[1;34m'the channel club'\u001b[0m\u001b[1;33m,\u001b[0m \u001b[1;34m'steak and seafood'\u001b[0m\u001b[1;33m)\u001b[0m\u001b[1;33m\u001b[0m\u001b[0m\n\u001b[0;32m      4\u001b[0m \u001b[0mchannel_club\u001b[0m\u001b[1;33m.\u001b[0m\u001b[0mdescribe_restaurant\u001b[0m\u001b[1;33m(\u001b[0m\u001b[1;33m)\u001b[0m\u001b[1;33m\u001b[0m\u001b[0m\n\u001b[0;32m      5\u001b[0m \u001b[0mchannel_club\u001b[0m\u001b[1;33m.\u001b[0m\u001b[0mopen_restaurant\u001b[0m\u001b[1;33m(\u001b[0m\u001b[1;33m)\u001b[0m\u001b[1;33m\u001b[0m\u001b[0m\n",
      "\u001b[1;31mModuleNotFoundError\u001b[0m: No module named 'restaurant'"
     ]
    }
   ],
   "source": [
    "from restaurant import Restaurant\n",
    "\n",
    "channel_club = Restaurant('the channel club', 'steak and seafood')\n",
    "channel_club.describe_restaurant()\n",
    "channel_club.open_restaurant()"
   ]
  }
 ],
 "metadata": {
  "kernelspec": {
   "display_name": "Python 3",
   "language": "python",
   "name": "python3"
  },
  "language_info": {
   "codemirror_mode": {
    "name": "ipython",
    "version": 3
   },
   "file_extension": ".py",
   "mimetype": "text/x-python",
   "name": "python",
   "nbconvert_exporter": "python",
   "pygments_lexer": "ipython3",
   "version": "3.7.0"
  }
 },
 "nbformat": 4,
 "nbformat_minor": 2
}
