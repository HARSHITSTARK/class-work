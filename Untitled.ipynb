{
 "cells": [
  {
   "cell_type": "code",
   "execution_count": 1,
   "metadata": {},
   "outputs": [
    {
     "name": "stdout",
     "output_type": "stream",
     "text": [
      "enter topping: (enter quit)onion\n",
      "you will add onion to your pizza!\n",
      "enter topping: (enter quit)tomatoes\n",
      "you will add tomatoes to your pizza!\n",
      "enter topping: (enter quit)quit\n"
     ]
    }
   ],
   "source": [
    "prompt = \"enter topping: \"\n",
    "prompt += \"(enter quit)\"\n",
    "topping = ''\n",
    "active = True\n",
    "while active:\n",
    "    topping = input (prompt)\n",
    "    if topping == 'quit':\n",
    "        break\n",
    "    else:\n",
    "        print (\"you will add \" + topping + \" to your pizza!\")"
   ]
  },
  {
   "cell_type": "code",
   "execution_count": 5,
   "metadata": {},
   "outputs": [
    {
     "name": "stdout",
     "output_type": "stream",
     "text": [
      "the shirt of size 11 with message hello is ready to be delivered\n"
     ]
    }
   ],
   "source": [
    "def make_shirt(size,message):\n",
    "    print(\"the shirt of size \" +size+ \" with message \" +str(message)+ \" is ready to be delivered\")\n",
    "    \n",
    "make_shirt(\"11\",\"hello\")"
   ]
  },
  {
   "cell_type": "code",
   "execution_count": 7,
   "metadata": {},
   "outputs": [
    {
     "name": "stdout",
     "output_type": "stream",
     "text": [
      "{'artist': 'Metallica', 'title': 'Ride The Lightning'}\n",
      "{'artist': 'Beethoven', 'title': 'Ninth Symphony'}\n",
      "{'artist': 'Willie Nelson', 'title': 'Red-Headed Stranger'}\n"
     ]
    },
    {
     "ename": "NameError",
     "evalue": "name 'album_dict' is not defined",
     "output_type": "error",
     "traceback": [
      "\u001b[1;31m---------------------------------------------------------------------------\u001b[0m",
      "\u001b[1;31mNameError\u001b[0m                                 Traceback (most recent call last)",
      "\u001b[1;32m<ipython-input-7-cee1f802d535>\u001b[0m in \u001b[0;36m<module>\u001b[1;34m\u001b[0m\n\u001b[0;32m     15\u001b[0m \u001b[0malbum\u001b[0m \u001b[1;33m=\u001b[0m \u001b[0mmake_album\u001b[0m\u001b[1;33m(\u001b[0m\u001b[1;34m'willie nelson'\u001b[0m\u001b[1;33m,\u001b[0m \u001b[1;34m'red-headed stranger'\u001b[0m\u001b[1;33m)\u001b[0m\u001b[1;33m\u001b[0m\u001b[0m\n\u001b[0;32m     16\u001b[0m \u001b[0mprint\u001b[0m\u001b[1;33m(\u001b[0m\u001b[0malbum\u001b[0m\u001b[1;33m)\u001b[0m\u001b[1;33m\u001b[0m\u001b[0m\n\u001b[1;32m---> 17\u001b[1;33m \u001b[0mprint\u001b[0m\u001b[1;33m(\u001b[0m\u001b[0malbum_dict\u001b[0m\u001b[1;33m)\u001b[0m\u001b[1;33m\u001b[0m\u001b[0m\n\u001b[0m",
      "\u001b[1;31mNameError\u001b[0m: name 'album_dict' is not defined"
     ]
    }
   ],
   "source": [
    "def make_album(artist, title):\n",
    "    \"\"\"Build a dictionary containing information about an album.\"\"\"\n",
    "    album_dict = {\n",
    "        'artist': artist.title(),\n",
    "        'title': title.title(),\n",
    "        }\n",
    "    return album_dict\n",
    "\n",
    "album = make_album('metallica', 'ride the lightning')\n",
    "print(album)\n",
    "\n",
    "album = make_album('beethoven', 'ninth symphony')\n",
    "print(album)\n",
    "\n",
    "album = make_album('willie nelson', 'red-headed stranger')\n",
    "print(album)\n",
    "print(album_dict)"
   ]
  }
 ],
 "metadata": {
  "kernelspec": {
   "display_name": "Python 3",
   "language": "python",
   "name": "python3"
  },
  "language_info": {
   "codemirror_mode": {
    "name": "ipython",
    "version": 3
   },
   "file_extension": ".py",
   "mimetype": "text/x-python",
   "name": "python",
   "nbconvert_exporter": "python",
   "pygments_lexer": "ipython3",
   "version": "3.7.0"
  }
 },
 "nbformat": 4,
 "nbformat_minor": 2
}
