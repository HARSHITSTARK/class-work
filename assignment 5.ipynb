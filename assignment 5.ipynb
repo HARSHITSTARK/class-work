{
 "cells": [
  {
   "cell_type": "code",
   "execution_count": 2,
   "metadata": {},
   "outputs": [
    {
     "name": "stdout",
     "output_type": "stream",
     "text": [
      "How many people are there in your group? 6\n",
      "Great, your table is ready.\n"
     ]
    }
   ],
   "source": [
    "people = input(\"How many people are there in your group? \")\n",
    "people = int(people)\n",
    "if people > 8:\n",
    "    print(\"Sorry, but you will have to wait for sometime to be seated .\")\n",
    "else:\n",
    "    print(\"Great, your table is ready.\")"
   ]
  },
  {
   "cell_type": "code",
   "execution_count": 3,
   "metadata": {},
   "outputs": [
    {
     "name": "stdout",
     "output_type": "stream",
     "text": [
      "Enter a number: 90\n",
      "number is a multiple of 10.\n"
     ]
    }
   ],
   "source": [
    "num = int(input(\"Enter a number: \"))\n",
    "if num%10 == 0:\n",
    "    print(\"number is a multiple of 10.\")\n",
    "else:\n",
    "    print(\"it is not a multiple of 10\")"
   ]
  },
  {
   "cell_type": "code",
   "execution_count": null,
   "metadata": {},
   "outputs": [],
   "source": [
    "prompt = \"enter topping: \"\n",
    "prompt += \"(enter quit)\"\n",
    "topping = ''\n",
    "active = True\n",
    "while active:\n",
    "    topping = input (prompt)\n",
    "    if topping == quit:\n",
    "        break\n",
    "    else:\n",
    "        print(\"you will add \" +topping+ \" to your pizza.\")"
   ]
  },
  {
   "cell_type": "code",
   "execution_count": null,
   "metadata": {},
   "outputs": [],
   "source": [
    "prompt = \"enter topping: \"\n",
    "prompt += \"(enter quit)\"\n",
    "topping = ''\n",
    "active = True\n",
    "while active:\n",
    "    topping = input (prompt)\n",
    "    if topping == quit:\n",
    "        break\n",
    "    else:\n",
    "        print(\"you will add \" +topping+ \" to your pizza.\")\n",
    "        "
   ]
  },
  {
   "cell_type": "code",
   "execution_count": null,
   "metadata": {},
   "outputs": [],
   "source": [
    "prompt = \"enter topping: \"\n",
    "prompt += \"(enter quit)\"\n",
    "topping = ''\n",
    "active = True\n",
    "while active:\n",
    "    topping = input (prompt)\n",
    "    if topping == quit:\n",
    "        break\n",
    "    else:\n",
    "        print (\"you will add \" + topping + \" to your pizza!\")"
   ]
  },
  {
   "cell_type": "code",
   "execution_count": null,
   "metadata": {},
   "outputs": [],
   "source": [
    "prompt = \"enter topping: \"\n",
    "prompt += \"(enter quit)\"\n",
    "topping = ''\n",
    "active = True\n",
    "while active:\n",
    "    topping = input (prompt)\n",
    "    if topping == quit:\n",
    "        break\n",
    "    else:\n",
    "        print (\"you will add \" + topping + \" to your pizza!\")"
   ]
  }
 ],
 "metadata": {
  "kernelspec": {
   "display_name": "Python 3",
   "language": "python",
   "name": "python3"
  },
  "language_info": {
   "codemirror_mode": {
    "name": "ipython",
    "version": 3
   },
   "file_extension": ".py",
   "mimetype": "text/x-python",
   "name": "python",
   "nbconvert_exporter": "python",
   "pygments_lexer": "ipython3",
   "version": "3.7.0"
  }
 },
 "nbformat": 4,
 "nbformat_minor": 2
}
